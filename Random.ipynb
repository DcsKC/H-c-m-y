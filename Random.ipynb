{
 "cells": [
  {
   "cell_type": "code",
   "execution_count": null,
   "metadata": {},
   "outputs": [
    {
     "name": "stdout",
     "output_type": "stream",
     "text": [
      "Độ chính xác của mô hình: 99.73%\n",
      "              precision    recall  f1-score   support\n",
      "\n",
      "         Kém       1.00      0.98      0.99        41\n",
      "     Rất kém       1.00      1.00      1.00        13\n",
      "  Trung bình       1.00      0.99      0.99       226\n",
      "         Tốt       1.00      1.00      1.00      1209\n",
      "\n",
      "    accuracy                           1.00      1489\n",
      "   macro avg       1.00      0.99      0.99      1489\n",
      "weighted avg       1.00      1.00      1.00      1489\n",
      "\n"
     ]
    }
   ],
   "source": [
    "import pandas as pd\n",
    "from sklearn.model_selection import train_test_split\n",
    "from sklearn.ensemble import RandomForestClassifier\n",
    "from sklearn.preprocessing import LabelEncoder\n",
    "from sklearn.metrics import accuracy_score, classification_report\n",
    "\n",
    "file_path = r\"C:\\Users\\dcsph\\Downloads\\who_aap_2021_v9_11august2022.xlsx\"\n",
    "df = pd.read_excel(file_path, sheet_name=\"AAP_2022_city_v9\")\n",
    "\n",
    "df = df[[\"PM2.5 (μg/m3)\", \"PM10 (μg/m3)\", \"NO2 (μg/m3)\"]].dropna()\n",
    "\n",
    "def classify_aqi(pm25, pm10, no2):\n",
    "    if pm25 <= 25 and pm10 <= 50 and no2 <= 40:\n",
    "        return \"Tốt\"\n",
    "    elif pm25 <= 50 and pm10 <= 100 and no2 <= 80:\n",
    "        return \"Trung bình\"\n",
    "    elif pm25 <= 75 and pm10 <= 150 and no2 <= 120:\n",
    "        return \"Kém\"\n",
    "    else:\n",
    "        return \"Rất kém\"\n",
    "\n",
    "df[\"AQI Level\"] = df.apply(lambda row: classify_aqi(row[\"PM2.5 (μg/m3)\"], row[\"PM10 (μg/m3)\"], row[\"NO2 (μg/m3)\"]), axis=1)\n",
    "\n",
    "X = df[[\"PM2.5 (μg/m3)\", \"PM10 (μg/m3)\", \"NO2 (μg/m3)\"]]\n",
    "y = df[\"AQI Level\"]\n",
    "\n",
    "label_encoder = LabelEncoder()\n",
    "y_encoded = label_encoder.fit_transform(y)\n",
    "\n",
    "X_train, X_test, y_train, y_test = train_test_split(X, y_encoded, test_size=0.2, random_state=42)\n",
    "\n",
    "rf_model = RandomForestClassifier(n_estimators=100, random_state=42)\n",
    "rf_model.fit(X_train, y_train)\n",
    "\n",
    "\n",
    "y_pred = rf_model.predict(X_test)\n",
    "\n",
    "accuracy = accuracy_score(y_test, y_pred)\n",
    "print(f\"Độ chính xác của mô hình: {accuracy * 100:.2f}%\")\n",
    "print(classification_report(y_test, y_pred, target_names=label_encoder.classes_))\n"
   ]
  }
 ],
 "metadata": {
  "kernelspec": {
   "display_name": "Python 3",
   "language": "python",
   "name": "python3"
  },
  "language_info": {
   "codemirror_mode": {
    "name": "ipython",
    "version": 3
   },
   "file_extension": ".py",
   "mimetype": "text/x-python",
   "name": "python",
   "nbconvert_exporter": "python",
   "pygments_lexer": "ipython3",
   "version": "3.12.6"
  }
 },
 "nbformat": 4,
 "nbformat_minor": 2
}
